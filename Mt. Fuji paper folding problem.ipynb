{
 "cells": [
  {
   "cell_type": "markdown",
   "id": "e4798be4",
   "metadata": {},
   "source": [
    "# [Problem 1] Mininum number of folds over Mt.Fuji"
   ]
  },
  {
   "cell_type": "code",
   "execution_count": 19,
   "id": "14be723a",
   "metadata": {},
   "outputs": [
    {
     "name": "stdout",
     "output_type": "stream",
     "text": [
      "29\n"
     ]
    }
   ],
   "source": [
    "MOUNT_FUJI = 37776\n",
    "THICKNESS = 0.00008\n",
    "\n",
    "def folds_exceed_height(height=1000, thickness=0.00008):\n",
    "    if height < thickness:\n",
    "        return 0\n",
    "    folded_thickness = 0\n",
    "    i = 0\n",
    "    while height > folded_thickness:\n",
    "        i += 1\n",
    "        folded_thickness = thickness * 2 ** i\n",
    "    return i\n",
    "\n",
    "print(folds_exceed_height(MOUNT_FUJI, THICKNESS))\n",
    "        "
   ]
  },
  {
   "cell_type": "markdown",
   "id": "c42bab59",
   "metadata": {},
   "source": [
    "# [Problem 2] Function corresponding to arbitrary thickness"
   ]
  },
  {
   "cell_type": "code",
   "execution_count": 14,
   "id": "4415c50a",
   "metadata": {},
   "outputs": [
    {
     "name": "stdout",
     "output_type": "stream",
     "text": [
      "Enter the Distance: 5\n",
      "The number of folds is:  16 Times\n"
     ]
    }
   ],
   "source": [
    "# The Program allow input from the user\n",
    "import math\n",
    "thickness = 0.00008\n",
    "def num_of_fold(distance):\n",
    "    num_of_folds = math.log(distance/thickness)/math.log(2)\n",
    "    return num_of_folds\n",
    "num_of_folds = num_of_fold(distance = float(input(\"Enter the Distance: \")))\n",
    "print(\"The number of folds is: \", round(num_of_folds), \"Times\")"
   ]
  },
  {
   "cell_type": "markdown",
   "id": "134ae5e9",
   "metadata": {},
   "source": [
    "# [Problem 3] Required paper length"
   ]
  },
  {
   "cell_type": "code",
   "execution_count": 20,
   "id": "e1a25026",
   "metadata": {},
   "outputs": [
    {
     "name": "stdout",
     "output_type": "stream",
     "text": [
      "12073365830927\n"
     ]
    }
   ],
   "source": [
    "import math\n",
    "\n",
    "def required_length(number_of_fold, thickness=0.00008):\n",
    "    length = (math.pi * thickness * (2**number_of_fold + 4) * (2**number_of_fold-1))/6\n",
    "    return int(length)\n",
    "\n",
    "print(required_length(\n",
    "folds_exceed_height(MOUNT_FUJI, THICKNESS) #FUNCTION FORM PROBLEM ONE\n",
    "))"
   ]
  },
  {
   "cell_type": "markdown",
   "id": "f64f14a2",
   "metadata": {},
   "source": [
    "# The length of the paper needed to reach the moon"
   ]
  },
  {
   "cell_type": "code",
   "execution_count": 21,
   "id": "3a180b94",
   "metadata": {},
   "outputs": [
    {
     "name": "stdout",
     "output_type": "stream",
     "text": [
      "12073365830927\n"
     ]
    }
   ],
   "source": [
    "import math\n",
    "moon = 384400\n",
    "def required_length(number_of_fold, thickness=0.00008):\n",
    "    length = (math.pi * thickness * (2**number_of_fold + 4) * (2**number_of_fold-1))/6\n",
    "    \n",
    "    return int(length)\n",
    "\n",
    "print(required_length(\n",
    "folds_exceed_height(MOUNT_FUJI, THICKNESS) #FUNCTION FORM PROBLEM ONE\n",
    "))"
   ]
  },
  {
   "cell_type": "code",
   "execution_count": null,
   "id": "25df0e2c",
   "metadata": {},
   "outputs": [],
   "source": []
  }
 ],
 "metadata": {
  "kernelspec": {
   "display_name": "Python 3 (ipykernel)",
   "language": "python",
   "name": "python3"
  },
  "language_info": {
   "codemirror_mode": {
    "name": "ipython",
    "version": 3
   },
   "file_extension": ".py",
   "mimetype": "text/x-python",
   "name": "python",
   "nbconvert_exporter": "python",
   "pygments_lexer": "ipython3",
   "version": "3.9.7"
  }
 },
 "nbformat": 4,
 "nbformat_minor": 5
}
