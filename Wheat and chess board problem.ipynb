{
 "cells": [
  {
   "cell_type": "markdown",
   "id": "c1a7c0a6",
   "metadata": {},
   "source": [
    "# [Problem 1] Number of wheat on a 2 x 2 square chess board"
   ]
  },
  {
   "cell_type": "code",
   "execution_count": 2,
   "id": "2f282fd6",
   "metadata": {},
   "outputs": [
    {
     "name": "stdout",
     "output_type": "stream",
     "text": [
      "The number of wheats on 2x2 shaped ndarry are:\n",
      "[1, 2, 4, 8]\n"
     ]
    }
   ],
   "source": [
    "import numpy as np\n",
    "n_squares = 4\n",
    "small_board_list = [1]\n",
    "for _ in range(n_squares - 1):\n",
    "    small_board_list.append(2*small_board_list[-1])\n",
    "small_board_ndarray = np.array(small_board_list).reshape(2,2)\n",
    "print(\"The number of wheats on 2x2 shaped ndarry are:\\n{}\".format(small_board_list))"
   ]
  },
  {
   "cell_type": "markdown",
   "id": "d7cf8531",
   "metadata": {},
   "source": [
    "# [Problem 2] Expansion to n × m mass"
   ]
  },
  {
   "cell_type": "code",
   "execution_count": 4,
   "id": "ae741edf",
   "metadata": {},
   "outputs": [
    {
     "name": "stdout",
     "output_type": "stream",
     "text": [
      "Number of wheats on a 8/8 chess board is:\n",
      "[[                  1                   2                   4\n",
      "                    8                  16                  32\n",
      "                   64                 128]\n",
      " [                256                 512                1024\n",
      "                 2048                4096                8192\n",
      "                16384               32768]\n",
      " [              65536              131072              262144\n",
      "               524288             1048576             2097152\n",
      "              4194304             8388608]\n",
      " [           16777216            33554432            67108864\n",
      "            134217728           268435456           536870912\n",
      "           1073741824          2147483648]\n",
      " [         4294967296          8589934592         17179869184\n",
      "          34359738368         68719476736        137438953472\n",
      "         274877906944        549755813888]\n",
      " [      1099511627776       2199023255552       4398046511104\n",
      "        8796093022208      17592186044416      35184372088832\n",
      "       70368744177664     140737488355328]\n",
      " [    281474976710656     562949953421312    1125899906842624\n",
      "     2251799813685248    4503599627370496    9007199254740992\n",
      "    18014398509481984   36028797018963968]\n",
      " [  72057594037927936  144115188075855872  288230376151711744\n",
      "   576460752303423488 1152921504606846976 2305843009213693952\n",
      "  4611686018427387904 9223372036854775808]]\n"
     ]
    }
   ],
   "source": [
    "#function Defiition\n",
    "def num_of_wheat(n, m):\n",
    "    chess_square = n*m\n",
    "    chessBoardlist = [1]\n",
    "    for square in range (chess_square-1):\n",
    "        chessBoardlist.append(2*chessBoardlist[square])\n",
    "        \n",
    "    return np.array(chessBoardlist).reshape(n,m).astype(np.uint64)\n",
    "print(\"Number of wheats on a 8/8 chess board is:\")\n",
    "print(num_of_wheat(8,8))"
   ]
  },
  {
   "cell_type": "markdown",
   "id": "fcfd31ac",
   "metadata": {},
   "source": [
    "# [Problem 3] Total number of wheat"
   ]
  },
  {
   "cell_type": "code",
   "execution_count": 16,
   "id": "0dbfafb8",
   "metadata": {},
   "outputs": [
    {
     "name": "stdout",
     "output_type": "stream",
     "text": [
      "The total number of wheats is: 18446744073709551615\n"
     ]
    }
   ],
   "source": [
    "chessboard_ndarray = num_of_wheat(8,8)\n",
    "total_wheat = chessboard_ndarray.sum()\n",
    "print(\"The total number of wheats is:\", total_wheat)"
   ]
  },
  {
   "cell_type": "markdown",
   "id": "63d816e5",
   "metadata": {},
   "source": [
    "# The Average of each column on 8x8 chess board:"
   ]
  },
  {
   "cell_type": "code",
   "execution_count": 17,
   "id": "41f908f6",
   "metadata": {},
   "outputs": [
    {
     "name": "stdout",
     "output_type": "stream",
     "text": [
      "Average of each of column:\n",
      "[9.04252160e+15 1.80850432e+16 3.61700864e+16 7.23401728e+16\n",
      " 1.44680346e+17 2.89360691e+17 5.78721383e+17 1.15744277e+18]\n"
     ]
    }
   ],
   "source": [
    "average_wheat = num_of_wheat(8,8).mean(axis = 0)\n",
    "print(\"Average of each of column:\\n{}\". format(average_wheat))"
   ]
  },
  {
   "cell_type": "markdown",
   "id": "805b0a2c",
   "metadata": {},
   "source": [
    "# Bar Graph Representation"
   ]
  },
  {
   "cell_type": "code",
   "execution_count": 18,
   "id": "45413028",
   "metadata": {},
   "outputs": [
    {
     "data": {
      "image/png": "[encoded data removed]",
      "text/plain": [
       "<Figure size 432x288 with 1 Axes>"
      ]
     },
     "metadata": {
      "needs_background": "light"
     },
     "output_type": "display_data"
    }
   ],
   "source": [
    "import matplotlib.pyplot as plt\n",
    "%matplotlib inline\n",
    "plt.xlabel(\"column\")\n",
    "plt.ylabel(\"number\")\n",
    "plt.title(\"number in each column\")\n",
    "plt.bar(np.arange(1,9),average_wheat)\n",
    "plt.show()"
   ]
  },
  {
   "cell_type": "markdown",
   "id": "cece973a",
   "metadata": {},
   "source": [
    "# [Problem 4] Heat map of the number of wheat"
   ]
  },
  {
   "cell_type": "code",
   "execution_count": 23,
   "id": "aec655f5",
   "metadata": {},
   "outputs": [
    {
     "name": "stdout",
     "output_type": "stream",
     "text": [
      "[1, 2, 4, 8, 16, 32, 64, 128, 256, 512, 1024, 2048, 4096, 8192, 16384, 32768, 65536, 131072, 262144, 524288, 1048576, 2097152, 4194304, 8388608, 16777216, 33554432, 67108864, 134217728, 268435456, 536870912, 1073741824, 2147483648, 4294967296, 8589934592, 17179869184, 34359738368, 68719476736, 137438953472, 274877906944, 549755813888, 1099511627776, 2199023255552, 4398046511104, 8796093022208, 17592186044416, 35184372088832, 70368744177664, 140737488355328, 281474976710656, 562949953421312, 1125899906842624, 2251799813685248, 4503599627370496, 9007199254740992, 18014398509481984, 36028797018963968, 72057594037927936, 144115188075855872, 288230376151711744, 576460752303423488, 1152921504606846976, 2305843009213693952, 4611686018427387904, 9223372036854775808]\n"
     ]
    }
   ],
   "source": [
    "n_squares = 64\n",
    "small_board_list = [1]\n",
    "for _ in range(n_squares - 1):\n",
    "    small_board_list.append(2*small_board_list[-1])\n",
    "print(small_board_list)"
   ]
  },
  {
   "cell_type": "code",
   "execution_count": 24,
   "id": "c3456042",
   "metadata": {},
   "outputs": [
    {
     "data": {
      "image/png": "[encoded data removed]",
      "text/plain": [
       "<Figure size 432x288 with 1 Axes>"
      ]
     },
     "metadata": {
      "needs_background": "light"
     },
     "output_type": "display_data"
    }
   ],
   "source": [
    "\n",
    "plt.ylabel(\"row\")\n",
    "plt.title(\"heatmap\")\n",
    "plt.pcolor(np.array(small_board_list).reshape(8, 8))\n",
    "plt.show()"
   ]
  },
  {
   "cell_type": "markdown",
   "id": "288e06fd",
   "metadata": {},
   "source": [
    "# [Problem 5] How many times is the second half as long as the first half?"
   ]
  },
  {
   "cell_type": "code",
   "execution_count": 25,
   "id": "758e7ad5",
   "metadata": {},
   "outputs": [
    {
     "name": "stdout",
     "output_type": "stream",
     "text": [
      "....................First half of the chess board.............\n",
      "[[         1          2          4          8         16         32\n",
      "          64        128]\n",
      " [       256        512       1024       2048       4096       8192\n",
      "       16384      32768]\n",
      " [     65536     131072     262144     524288    1048576    2097152\n",
      "     4194304    8388608]\n",
      " [  16777216   33554432   67108864  134217728  268435456  536870912\n",
      "  1073741824 2147483648]]\n",
      "....................Second half of the chess board.............\n",
      "[[         4294967296          8589934592         17179869184\n",
      "          34359738368         68719476736        137438953472\n",
      "         274877906944        549755813888]\n",
      " [      1099511627776       2199023255552       4398046511104\n",
      "        8796093022208      17592186044416      35184372088832\n",
      "       70368744177664     140737488355328]\n",
      " [    281474976710656     562949953421312    1125899906842624\n",
      "     2251799813685248    4503599627370496    9007199254740992\n",
      "    18014398509481984   36028797018963968]\n",
      " [  72057594037927936  144115188075855872  288230376151711744\n",
      "   576460752303423488 1152921504606846976 2305843009213693952\n",
      "  4611686018427387904 9223372036854775808]]\n"
     ]
    }
   ],
   "source": [
    "# Creating a data frame\n",
    "whole_chessboard = num_of_wheat(8,8)\n",
    "#splicing the data\n",
    "first_half = whole_chessboard[0:4]\n",
    "second_half = whole_chessboard[4:8]\n",
    "#printing the result\n",
    "print(\"....................First half of the chess board.............\")\n",
    "print(first_half)\n",
    "print(\"....................Second half of the chess board.............\")\n",
    "print(second_half)"
   ]
  },
  {
   "cell_type": "code",
   "execution_count": 26,
   "id": "46127040",
   "metadata": {},
   "outputs": [
    {
     "name": "stdout",
     "output_type": "stream",
     "text": [
      "first half: 4294967295 \n",
      "second half:  18446744069414584320\n",
      "\n",
      "The second half is 4294967295 times longer than the first half\n"
     ]
    }
   ],
   "source": [
    "print(\"first half:\", first_half.sum(), \"\\nsecond half: \",second_half.sum())\n",
    "print(\"\\nThe second half is {} times longer than the first half\". format(first_half.sum()))"
   ]
  },
  {
   "cell_type": "markdown",
   "id": "90581d2a",
   "metadata": {},
   "source": [
    "# [Problem 6] Expansion to n x m mass by other calculation methods"
   ]
  },
  {
   "cell_type": "code",
   "execution_count": 29,
   "id": "200480fc",
   "metadata": {},
   "outputs": [
    {
     "name": "stdout",
     "output_type": "stream",
     "text": [
      "Number of wheat in the last trout:\n",
      "[                  1                   2                   4\n",
      "                   8                  16                  32\n",
      "                  64                 128                 256\n",
      "                 512                1024                2048\n",
      "                4096                8192               16384\n",
      "               32768               65536              131072\n",
      "              262144              524288             1048576\n",
      "             2097152             4194304             8388608\n",
      "            16777216            33554432            67108864\n",
      "           134217728           268435456           536870912\n",
      "          1073741824          2147483648          4294967296\n",
      "          8589934592         17179869184         34359738368\n",
      "         68719476736        137438953472        274877906944\n",
      "        549755813888       1099511627776       2199023255552\n",
      "       4398046511104       8796093022208      17592186044416\n",
      "      35184372088832      70368744177664     140737488355328\n",
      "     281474976710656     562949953421312    1125899906842624\n",
      "    2251799813685248    4503599627370496    9007199254740992\n",
      "   18014398509481984   36028797018963968   72057594037927936\n",
      "  144115188075855872  288230376151711744  576460752303423488\n",
      " 1152921504606846976 2305843009213693952 4611686018427387904\n",
      " 9223372036854775808]\n"
     ]
    }
   ],
   "source": [
    "indices_of_squares = np.arange(n_squares).astype(np.uint64)\n",
    "board_broadcast = 2**indices_of_squares\n",
    "print(\"Number of wheat in the last trout:\\n{}\".format(board_broadcast))"
   ]
  },
  {
   "cell_type": "markdown",
   "id": "104914c1",
   "metadata": {},
   "source": [
    "# [Problem 7] Comparing calculation times"
   ]
  },
  {
   "cell_type": "code",
   "execution_count": 30,
   "id": "c7cf3061",
   "metadata": {},
   "outputs": [
    {
     "name": "stdout",
     "output_type": "stream",
     "text": [
      "47.6 ns ± 11.8 ns per loop (mean ± std. dev. of 7 runs, 10000000 loops each)\n"
     ]
    }
   ],
   "source": [
    "%%timeit\n",
    "small_board_ndarray"
   ]
  },
  {
   "cell_type": "code",
   "execution_count": 31,
   "id": "02a5642b",
   "metadata": {},
   "outputs": [
    {
     "name": "stdout",
     "output_type": "stream",
     "text": [
      "48.1 ns ± 6.07 ns per loop (mean ± std. dev. of 7 runs, 10000000 loops each)\n"
     ]
    }
   ],
   "source": [
    "%%timeit\n",
    "small_board_ndarray"
   ]
  },
  {
   "cell_type": "code",
   "execution_count": 33,
   "id": "14364b95",
   "metadata": {},
   "outputs": [
    {
     "name": "stdout",
     "output_type": "stream",
     "text": [
      "59.8 ns ± 12.3 ns per loop (mean ± std. dev. of 7 runs, 10000000 loops each)\n"
     ]
    }
   ],
   "source": [
    "%%timeit\n",
    "board_broadcast"
   ]
  },
  {
   "cell_type": "code",
   "execution_count": null,
   "id": "a640b246",
   "metadata": {},
   "outputs": [],
   "source": []
  }
 ],
 "metadata": {
  "kernelspec": {
   "display_name": "Python 3 (ipykernel)",
   "language": "python",
   "name": "python3"
  },
  "language_info": {
   "codemirror_mode": {
    "name": "ipython",
    "version": 3
   },
   "file_extension": ".py",
   "mimetype": "text/x-python",
   "name": "python",
   "nbconvert_exporter": "python",
   "pygments_lexer": "ipython3",
   "version": "3.9.7"
  }
 },
 "nbformat": 4,
 "nbformat_minor": 5
}
